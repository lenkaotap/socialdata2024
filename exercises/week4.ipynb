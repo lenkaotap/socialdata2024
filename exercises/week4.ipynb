{
 "cells": [
  {
   "cell_type": "markdown",
   "id": "bbbc7f40",
   "metadata": {},
   "source": [
    "# Week 4 - Social Data Analysis, DTU\n",
    "20.02.2024\n",
    "\n",
    "## Part 1: More lecturing on dataviz\n",
    "\n",
    "Excercise: Some questions about the video. Try to answer using your human brain (rather than your LLMs first).\n",
    "\n",
    "- Mention 10 examples of ways we can encode data.\n",
    "\n",
    "*Height/length, area size, color, position (eg geographical), shape, angle, line weight (thicknmess),line ending,* texture, pattern*\n",
    "\n",
    "- Are all encodings created equally? Why not? Can you think of an example from the previous lectures?\n",
    "\n",
    "*No. Some are easier to visualise than others. Eg. length or line thickness is easier than angle and size.*\n",
    "\n",
    "- Mention 3 encodings that are difficult for the human eye to parse. Can you find an example of a visualization online that uses one of those three?\n",
    "\n",
    "*Angle, color shades, and sizes. \n",
    "Find online ... pie charts, color maps and ... I dunno, it's all good.*\n",
    "\n",
    "- Explain in your own words: What is the problem with pie-charts?\n",
    "\n",
    "*It is hard to see which has a higher area and angle ... but I think if you need precision, then you can attach numbers to the pie chart. I do not agree that pie charts are always a no-go, for they can be quite good for the eye, if there are not too many pie pieces (like 4-6 max)*"
   ]
  },
  {
   "cell_type": "markdown",
   "id": "e52f6a9e",
   "metadata": {},
   "source": [
    "## Part 2: Visualizing geo-data\n",
    "\n",
    "It turns out that plotly (which we used during Week 2) is not the only way of working with geo-data. There are many different ways to go about it. (The more advanced PhD and PostDoc researchers in my group simply use matplotlib, since that provides more control. For an example of that kind of thing, check out this tutorial.)\n",
    "\n",
    "Today, we'll try another library for geodata called Folium. It's good for you all to try out a few different libraries - remember that data visualization and analysis in Python is all about the ability to use many different tools.\n",
    "\n",
    "The exercise below is based on the code illustrated in this nice tutorial, so let us start by taking a look at that one.\n",
    "\n",
    "Reading. Read through the following tutorial\n",
    "\n",
    "\"How to: Folium for maps, heatmaps & time data\". Get it here: https://www.kaggle.com/daveianhickey/how-to-folium-for-maps-heatmaps-time-data. [UPDATE 2024: Note that the Stamen tiles are no longer avialible.]\n",
    "(Optional) There are also some nice tricks in \"Spatial Visualizations and Analysis in Python with Folium\". Read it here: https://towardsdatascience.com/data-101s-spatial-visualizations-and-analysis-in-python-with-folium-39730da2adf"
   ]
  },
  {
   "cell_type": "markdown",
   "id": "4a3e0394",
   "metadata": {},
   "source": [
    "*Exercise:* A different take on geospatial data. It's OK to use your LLM for all of the Folium exercises.\n",
    "\n",
    "A couple of weeks ago (Part 3 of Week 2), we worked with spacial data by using color-intensity of shapefiles to show the counts of certain crimes within those individual areas. Today, we look at studying geospatial data by plotting raw data points as well as heatmaps on top of actual maps.\n",
    "\n",
    "- First start by plotting a map of San Francisco with a nice tight zoom. Simply use the command folium.Map([lat, lon], zoom_start=13), where you'll have to look up San Francisco's longitude and latitude.\n",
    "- Next, use the the coordinates for SF City Hall 37.77919, -122.41914 to indicate its location on the map with a nice, pop-up enabled maker. (In the screenshot below, I used the black & white Stamen tiles, because they look cool. UPDATE 2024: Note that the Stamen tiles are no longer avialible, but there are many other tile-options. Link for more options on Stamen here)."
   ]
  },
  {
   "cell_type": "code",
   "execution_count": null,
   "id": "30072828",
   "metadata": {},
   "outputs": [],
   "source": []
  }
 ],
 "metadata": {
  "kernelspec": {
   "display_name": "Python 3 (ipykernel)",
   "language": "python",
   "name": "python3"
  },
  "language_info": {
   "codemirror_mode": {
    "name": "ipython",
    "version": 3
   },
   "file_extension": ".py",
   "mimetype": "text/x-python",
   "name": "python",
   "nbconvert_exporter": "python",
   "pygments_lexer": "ipython3",
   "version": "3.11.5"
  }
 },
 "nbformat": 4,
 "nbformat_minor": 5
}
