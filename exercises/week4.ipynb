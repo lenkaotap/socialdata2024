{
 "cells": [
  {
   "cell_type": "markdown",
   "id": "bbbc7f40",
   "metadata": {},
   "source": [
    "# Week 4 - Social Data Analysis, DTU\n",
    "20.02.2024\n",
    "\n",
    "## Part 1: More lecturing on dataviz\n",
    "\n",
    "Excercise: Some questions about the video. Try to answer using your human brain (rather than your LLMs first).\n",
    "\n",
    "- Mention 10 examples of ways we can encode data.\n",
    "\n",
    "*Height/length, area size, color, position (eg geographical), shape, angle, line weight (thicknmess),line ending,* texture, pattern*\n",
    "\n",
    "- Are all encodings created equally? Why not? Can you think of an example from the previous lectures?\n",
    "\n",
    "*No. Some are easier to visualise than others. Eg. length or line thickness is easier than angle and size.*\n",
    "\n",
    "- Mention 3 encodings that are difficult for the human eye to parse. Can you find an example of a visualization online that uses one of those three?\n",
    "\n",
    "*Angle, color shades, and sizes. \n",
    "Find online ... pie charts, color maps and ... I dunno, it's all good.*\n",
    "\n",
    "- Explain in your own words: What is the problem with pie-charts?\n",
    "\n",
    "*It is hard to see which has a higher area and angle ... but I think if you need precision, then you can attach numbers to the pie chart. I do not agree that pie charts are always a no-go, for they can be quite good for the eye, if there are not too many pie pieces (like 4-6 max)*"
   ]
  },
  {
   "cell_type": "markdown",
   "id": "e52f6a9e",
   "metadata": {},
   "source": [
    "## Part 2: Visualizing geo-data\n",
    "\n",
    "It turns out that plotly (which we used during Week 2) is not the only way of working with geo-data. There are many different ways to go about it. (The more advanced PhD and PostDoc researchers in my group simply use matplotlib, since that provides more control. For an example of that kind of thing, check out this tutorial.)\n",
    "\n",
    "Today, we'll try another library for geodata called Folium. It's good for you all to try out a few different libraries - remember that data visualization and analysis in Python is all about the ability to use many different tools.\n",
    "\n",
    "The exercise below is based on the code illustrated in this nice tutorial, so let us start by taking a look at that one.\n",
    "\n",
    "Reading. Read through the following tutorial\n",
    "\n",
    "\"How to: Folium for maps, heatmaps & time data\". Get it here: https://www.kaggle.com/daveianhickey/how-to-folium-for-maps-heatmaps-time-data. [UPDATE 2024: Note that the Stamen tiles are no longer avialible.]\n",
    "(Optional) There are also some nice tricks in \"Spatial Visualizations and Analysis in Python with Folium\". Read it here: https://towardsdatascience.com/data-101s-spatial-visualizations-and-analysis-in-python-with-folium-39730da2adf"
   ]
  },
  {
   "cell_type": "markdown",
   "id": "4a3e0394",
   "metadata": {},
   "source": [
    "*Exercise:* A different take on geospatial data. It's OK to use your LLM for all of the Folium exercises.\n",
    "\n",
    "A couple of weeks ago (Part 3 of Week 2), we worked with spacial data by using color-intensity of shapefiles to show the counts of certain crimes within those individual areas. Today, we look at studying geospatial data by plotting raw data points as well as heatmaps on top of actual maps.\n",
    "\n",
    "- First start by plotting a map of San Francisco with a nice tight zoom. Simply use the command folium.Map([lat, lon], zoom_start=13), where you'll have to look up San Francisco's longitude and latitude.\n",
    "- Next, use the the coordinates for SF City Hall 37.77919, -122.41914 to indicate its location on the map with a nice, pop-up enabled maker. (In the screenshot below, I used the black & white Stamen tiles, because they look cool. UPDATE 2024: Note that the Stamen tiles are no longer avialible, but there are many other tile-options. Link for more options on Stamen here)."
   ]
  },
  {
   "cell_type": "code",
   "execution_count": 18,
   "id": "30072828",
   "metadata": {},
   "outputs": [
    {
     "data": {
      "text/html": [
       "<div style=\"width:100%;\"><div style=\"position:relative;width:100%;height:0;padding-bottom:60%;\"><span style=\"color:#565656\">Make this Notebook Trusted to load map: File -> Trust Notebook</span><iframe srcdoc=\"&lt;!DOCTYPE html&gt;\n",
       "&lt;html&gt;\n",
       "&lt;head&gt;\n",
       "    \n",
       "    &lt;meta http-equiv=&quot;content-type&quot; content=&quot;text/html; charset=UTF-8&quot; /&gt;\n",
       "    \n",
       "        &lt;script&gt;\n",
       "            L_NO_TOUCH = false;\n",
       "            L_DISABLE_3D = false;\n",
       "        &lt;/script&gt;\n",
       "    \n",
       "    &lt;style&gt;html, body {width: 100%;height: 100%;margin: 0;padding: 0;}&lt;/style&gt;\n",
       "    &lt;style&gt;#map {position:absolute;top:0;bottom:0;right:0;left:0;}&lt;/style&gt;\n",
       "    &lt;script src=&quot;https://cdn.jsdelivr.net/npm/leaflet@1.9.3/dist/leaflet.js&quot;&gt;&lt;/script&gt;\n",
       "    &lt;script src=&quot;https://code.jquery.com/jquery-3.7.1.min.js&quot;&gt;&lt;/script&gt;\n",
       "    &lt;script src=&quot;https://cdn.jsdelivr.net/npm/bootstrap@5.2.2/dist/js/bootstrap.bundle.min.js&quot;&gt;&lt;/script&gt;\n",
       "    &lt;script src=&quot;https://cdnjs.cloudflare.com/ajax/libs/Leaflet.awesome-markers/2.0.2/leaflet.awesome-markers.js&quot;&gt;&lt;/script&gt;\n",
       "    &lt;link rel=&quot;stylesheet&quot; href=&quot;https://cdn.jsdelivr.net/npm/leaflet@1.9.3/dist/leaflet.css&quot;/&gt;\n",
       "    &lt;link rel=&quot;stylesheet&quot; href=&quot;https://cdn.jsdelivr.net/npm/bootstrap@5.2.2/dist/css/bootstrap.min.css&quot;/&gt;\n",
       "    &lt;link rel=&quot;stylesheet&quot; href=&quot;https://netdna.bootstrapcdn.com/bootstrap/3.0.0/css/bootstrap.min.css&quot;/&gt;\n",
       "    &lt;link rel=&quot;stylesheet&quot; href=&quot;https://cdn.jsdelivr.net/npm/@fortawesome/fontawesome-free@6.2.0/css/all.min.css&quot;/&gt;\n",
       "    &lt;link rel=&quot;stylesheet&quot; href=&quot;https://cdnjs.cloudflare.com/ajax/libs/Leaflet.awesome-markers/2.0.2/leaflet.awesome-markers.css&quot;/&gt;\n",
       "    &lt;link rel=&quot;stylesheet&quot; href=&quot;https://cdn.jsdelivr.net/gh/python-visualization/folium/folium/templates/leaflet.awesome.rotate.min.css&quot;/&gt;\n",
       "    \n",
       "            &lt;meta name=&quot;viewport&quot; content=&quot;width=device-width,\n",
       "                initial-scale=1.0, maximum-scale=1.0, user-scalable=no&quot; /&gt;\n",
       "            &lt;style&gt;\n",
       "                #map_e72efd32536cd4b5c1ec7f4a3de09fc4 {\n",
       "                    position: relative;\n",
       "                    width: 100.0%;\n",
       "                    height: 100.0%;\n",
       "                    left: 0.0%;\n",
       "                    top: 0.0%;\n",
       "                }\n",
       "                .leaflet-container { font-size: 1rem; }\n",
       "            &lt;/style&gt;\n",
       "        \n",
       "&lt;/head&gt;\n",
       "&lt;body&gt;\n",
       "    \n",
       "    \n",
       "            &lt;div class=&quot;folium-map&quot; id=&quot;map_e72efd32536cd4b5c1ec7f4a3de09fc4&quot; &gt;&lt;/div&gt;\n",
       "        \n",
       "&lt;/body&gt;\n",
       "&lt;script&gt;\n",
       "    \n",
       "    \n",
       "            var map_e72efd32536cd4b5c1ec7f4a3de09fc4 = L.map(\n",
       "                &quot;map_e72efd32536cd4b5c1ec7f4a3de09fc4&quot;,\n",
       "                {\n",
       "                    center: [37.77664605675238, -122.42493579160154],\n",
       "                    crs: L.CRS.EPSG3857,\n",
       "                    zoom: 13,\n",
       "                    zoomControl: true,\n",
       "                    preferCanvas: false,\n",
       "                }\n",
       "            );\n",
       "\n",
       "            \n",
       "\n",
       "        \n",
       "    \n",
       "            var tile_layer_e8929721d91d573e60e47727f9658528 = L.tileLayer(\n",
       "                &quot;https://tile.openstreetmap.org/{z}/{x}/{y}.png&quot;,\n",
       "                {&quot;attribution&quot;: &quot;\\u0026copy; \\u003ca href=\\&quot;https://www.openstreetmap.org/copyright\\&quot;\\u003eOpenStreetMap\\u003c/a\\u003e contributors&quot;, &quot;detectRetina&quot;: false, &quot;maxNativeZoom&quot;: 19, &quot;maxZoom&quot;: 19, &quot;minZoom&quot;: 0, &quot;noWrap&quot;: false, &quot;opacity&quot;: 1, &quot;subdomains&quot;: &quot;abc&quot;, &quot;tms&quot;: false}\n",
       "            );\n",
       "        \n",
       "    \n",
       "            tile_layer_e8929721d91d573e60e47727f9658528.addTo(map_e72efd32536cd4b5c1ec7f4a3de09fc4);\n",
       "        \n",
       "    \n",
       "            var marker_886c0bc32017befa6c468693253563b4 = L.marker(\n",
       "                [37.77919, -122.41914],\n",
       "                {}\n",
       "            ).addTo(map_e72efd32536cd4b5c1ec7f4a3de09fc4);\n",
       "        \n",
       "    \n",
       "        var popup_068cfefd7605c7a1541c7a516a26983f = L.popup({&quot;maxWidth&quot;: &quot;100%&quot;});\n",
       "\n",
       "        \n",
       "            \n",
       "                var html_b56c9c9613cc84d0deead14ee85aa936 = $(`&lt;div id=&quot;html_b56c9c9613cc84d0deead14ee85aa936&quot; style=&quot;width: 100.0%; height: 100.0%;&quot;&gt;SF City Hall&lt;/div&gt;`)[0];\n",
       "                popup_068cfefd7605c7a1541c7a516a26983f.setContent(html_b56c9c9613cc84d0deead14ee85aa936);\n",
       "            \n",
       "        \n",
       "\n",
       "        marker_886c0bc32017befa6c468693253563b4.bindPopup(popup_068cfefd7605c7a1541c7a516a26983f)\n",
       "        ;\n",
       "\n",
       "        \n",
       "    \n",
       "&lt;/script&gt;\n",
       "&lt;/html&gt;\" style=\"position:absolute;width:100%;height:100%;left:0;top:0;border:none !important;\" allowfullscreen webkitallowfullscreen mozallowfullscreen></iframe></div></div>"
      ],
      "text/plain": [
       "<folium.folium.Map at 0x155bf2b90>"
      ]
     },
     "execution_count": 18,
     "metadata": {},
     "output_type": "execute_result"
    }
   ],
   "source": [
    "import numpy as np # linear algebra\n",
    "import pandas as pd # data processing, CSV file I/O (e.g. pd.read_csv)\n",
    "import folium\n",
    "\n",
    "#lat and lon copied from previos average calculations\n",
    "lat = 37.77664605675238\n",
    "lon = -122.42493579160154\n",
    "    \n",
    "map_SF = folium.Map([lat, lon], zoom_start=13)\n",
    "\n",
    "folium.Marker([37.77919, -122.41914], popup='SF City Hall').add_to(map_SF)\n",
    "map_SF"
   ]
  },
  {
   "cell_type": "markdown",
   "id": "0ebba8c5",
   "metadata": {},
   "source": [
    "- Now, let's plot some more data (no need for pop-ups this time). Select a couple of months of data for 'DRUG/NARCOTIC' and draw a little dot for each arrest for those two months. You could, for example, choose June-July 2016, but you can choose anything you like - the main concern is to not have too many points as this uses a lot of memory and makes Folium behave non-optimally. We can call this kind of visualization a point scatter plot."
   ]
  },
  {
   "cell_type": "code",
   "execution_count": null,
   "id": "522c69a3",
   "metadata": {},
   "outputs": [],
   "source": []
  },
  {
   "cell_type": "markdown",
   "id": "2bc45d39",
   "metadata": {},
   "source": [
    "## Part 3: Errors in the data\n",
    "\n",
    "We started the course by plotting simple histogram and bar plots that showed a lot of cool patterns. But sometimes the binning can hide imprecision, irregularity, and simple errors in the data that could be misleading. In the work we've done so far, we've already come across at least three examples of this in the SF data (listed in Part 3 of Week 4). \n",
    "\n",
    "The data errors we discovered at the end of Week 4 become hard (or impossible) to notice when we aggregate data (and when we calculate mean values, as well as statistics more generally). Thus, in a more general sense, we learn that when we visualize, data errors become difficult to identify when binning the data. We explore this process in the exercise below.\n",
    "\n",
    "### In each of the 3 examples we listed during Week 4, describe in your own words how the data-errors I call attention to above can bias the binned versions of the data. \n",
    "\n",
    "3 examples for when histigram and bar plots in bins can show trends, but we miss small irregularities, that might have been interesting or there might be errors due to bias, eg: \n",
    "    \n",
    "1. It prostitution most common on Thursdays or is it an error? There could be a bias, if there is a practising on registering or updating the official logs on Thursdays, for the whole week, and if date is missing, it will be \"todays date\".\n",
    "2. Timestamps written manually are often rounded to whole hours or 15 mins marks. It's a human thing to round a number, especially if the accurate time is not known. \n",
    "3. Hall of Justice is not where the sex offences happen - could be where they are registered because the sentence was given there. Hence this is the place when the sex offender was found guilty. \n",
    "\n",
    "\n",
    "### Also, briefly mention how not noticing these errors can result in misconceptions about the underlying patterns of what's going on in San Francisco (and our modeling).\n",
    "\n",
    "Misconceptions due to the biases and errors can result in attention to the wrong days and times in crime prevention attempts, when using data evidence for when and where to insert special forces to handle crime.\n"
   ]
  },
  {
   "cell_type": "markdown",
   "id": "5ab09817",
   "metadata": {},
   "source": [
    "### Find your own example of human noise in the data and visualize it.\n",
    "\n",
    "Examples of human noise:\n",
    "- Rounding numbers\n",
    "- Using the wrong scale (like 1-100 instead of 1-10 due to a misunderstanding)\n",
    "- Misclassification in wrong category due to misunderstanding\n",
    "- Inconsistent date format entry\n",
    "- Duplicate or ommited data entry due to forgetfullness\n",
    "- Biased responses given due to \"expected expectations\" (like when a student is answering a survey on cheating ...) or other wrong subjective evaluations.\n",
    "      \n",
    "As personal example (subjective bias): When I was moving about 20 years ago, I made a webform registration for people who wanted to help me, and I asked how many slices of pizza they thoight they could eat afterwards. I had an expectation that a hungry person would answer a larger amount than a full person, so I also asked \"How hungry are you right now?\", and corrected +/- some percentage, which I can't remember now.\n",
    "      \n",
    "Not sure it makes sense to visualise this, so instead, I present this slightly more boring example of human noise answering in the wrong range (made by ChatGPT):"
   ]
  },
  {
   "cell_type": "code",
   "execution_count": 16,
   "id": "e777b8aa",
   "metadata": {},
   "outputs": [
    {
     "data": {
      "image/png": "[encoded data removed]",
      "text/plain": [
       "<Figure size 1000x600 with 1 Axes>"
      ]
     },
     "metadata": {},
     "output_type": "display_data"
    }
   ],
   "source": [
    "import matplotlib.pyplot as plt\n",
    "import pandas as pd\n",
    "import numpy as np\n",
    "\n",
    "# Generating synthetic data for demonstration\n",
    "np.random.seed(0)\n",
    "valid_ratings = np.random.randint(1, 11, 100)  # Ratings on a scale of 1 to 10\n",
    "erroneous_ratings = np.random.randint(70, 101, 10)  # Erroneous ratings out of 100\n",
    "ratings = pd.Series(np.concatenate([valid_ratings, erroneous_ratings]))\n",
    "\n",
    "# Plotting the data\n",
    "plt.figure(figsize=(10, 6))\n",
    "plt.hist(ratings, bins=range(1, 105, 5), edgecolor='black')\n",
    "plt.xlabel('Rating')\n",
    "plt.ylabel('Frequency')\n",
    "plt.title('Distribution of Service Ratings')\n",
    "\n",
    "# Highlighting potential noise\n",
    "#plt.axvline(x=6, color='green', linestyle='--')\n",
    "plt.text(8, 50, 'Correct scale', color='green')\n",
    "#plt.axvline(x=80, color='red', linestyle='--')\n",
    "plt.text(75, 15, 'Possible human noise\\n(misunderstood scale)', color='red')\n",
    "\n",
    "plt.show()\n"
   ]
  },
  {
   "cell_type": "markdown",
   "id": "f11bda00",
   "metadata": {},
   "source": [
    "### Did you find LLMs useful for anything in this exercise? Explain why/why not.\n",
    "\n",
    "Yes, after my first answers, I ran them through the ChatGPT, and it gave me some more ideas about bias and consequences and also a few examples of human noise to chose from. Also, I made the above exampel with chatGPT ^"
   ]
  },
  {
   "cell_type": "code",
   "execution_count": null,
   "id": "45987631",
   "metadata": {},
   "outputs": [],
   "source": []
  }
 ],
 "metadata": {
  "kernelspec": {
   "display_name": "Python 3 (ipykernel)",
   "language": "python",
   "name": "python3"
  },
  "language_info": {
   "codemirror_mode": {
    "name": "ipython",
    "version": 3
   },
   "file_extension": ".py",
   "mimetype": "text/x-python",
   "name": "python",
   "nbconvert_exporter": "python",
   "pygments_lexer": "ipython3",
   "version": "3.11.5"
  }
 },
 "nbformat": 4,
 "nbformat_minor": 5
}
