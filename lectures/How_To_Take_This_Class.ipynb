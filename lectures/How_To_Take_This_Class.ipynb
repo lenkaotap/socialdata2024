{
 "cells": [
  {
   "cell_type": "markdown",
   "metadata": {},
   "source": [
    "# How the class works!\n",
    "\n",
    "## Overview\n",
    "\n",
    "Welcome to the _Social Data Analysis and Visualization_ course. This class probably works a little differently from other classes you've taken. To avoid any confusion, I've created this notebook to explain how everything works.\n",
    "\n",
    "Each week of this class is an Jupyter notebook like this one. **_In order to successfully follow the class, you simply start reading from the top_**, following the instructions. As you read, you will encounter three things that should cause you to take a break from reading or sometimes leave the page for a little bit:\n",
    "\n",
    "* Instructions to **check out a video lecture**.\n",
    "* Instructions to **read something** (I don't use a single textbook, so will make sure to link to the relevant text).\n",
    "* Instructions to **solve a few exercises**. Ideally you should solve the exercises on your own, but work on and discuss the problems as part of a 3 person group. Exercises should be carried out within a Jupyter notebook (explained below). The exercises are the most important part of the class. It is through the exercises that you will learn the course material, and because the exercises lay the foundations for the two mandatory course assignment (due after week 4 and week 8). "
   ]
  },
  {
   "cell_type": "markdown",
   "metadata": {},
   "source": [
    "# How the class works\n",
    "\n",
    "> **Video lecture**: Start by watching the \"How we do things\" video below. The video explains the pedagogical aspects of how the class works.\n",
    ">\n",
    "> [![Video Link to youtube](https://img.youtube.com/vi/y8eOcx9RSyY/0.jpg)](https://www.youtube.com/watch?v=y8eOcx9RSyY)"
   ]
  },
  {
   "cell_type": "markdown",
   "metadata": {},
   "source": [
    "# Thoughts on large language models\n",
    "\n",
    "> **Video lecture**: Next up is one more lecture about how we view the use of Generative AI in class.\n",
    ">\n",
    "> The ultra short summary is that\n",
    "> ChatGPT and its collegues are incredible for learning when you use them as a super knowledgeable personal tutor\n",
    "> ... but that they DESTROY your\n",
    "> learning if you just use them to solve the problems for you."
   ]
  },
  {
   "cell_type": "markdown",
   "metadata": {},
   "source": [
    "[![Video Link to youtube](https://img.youtube.com/vi/vR4Q89rjj4I/0.jpg)](https://www.youtube.com/watch?v=vR4Q89rjj4I)"
   ]
  },
  {
   "cell_type": "markdown",
   "metadata": {},
   "source": [
    "I mention a Ted talk in the video. *Watching this one is optional*, but the video really shows off some of the potential of using generative AI in the classroom. Link here: https://www.ted.com/talks/sal_khan_how_ai_could_save_not_destroy_education/"
   ]
  },
  {
   "cell_type": "markdown",
   "metadata": {},
   "source": [
    "## Github to organize things\n",
    "\n",
    "\n",
    "As in any class, we're going to use a couple of 'technologies' in order to learn the material. Below a video to explain our system for organizing everything.\n",
    "\n",
    "The first thing is github/Jupyter Notebooks/nbviewer. You've already worked with this (in fact, you're probably looking at this notebook file on the web), but in the video below, I provide some more examples.\n",
    "\n",
    "Thus, the video explains everything related to the course homepage."
   ]
  },
  {
   "cell_type": "markdown",
   "metadata": {},
   "source": [
    "[![Video Link to youtube](https://img.youtube.com/vi/42KjmxgYYNI/0.jpg)](https://www.youtube.com/watch?v=42KjmxgYYNI)"
   ]
  },
  {
   "cell_type": "code",
   "execution_count": null,
   "metadata": {},
   "outputs": [],
   "source": []
  }
 ],
 "metadata": {
  "kernelspec": {
   "display_name": "Python 3 (ipykernel)",
   "language": "python",
   "name": "python3"
  },
  "language_info": {
   "codemirror_mode": {
    "name": "ipython",
    "version": 3
   },
   "file_extension": ".py",
   "mimetype": "text/x-python",
   "name": "python",
   "nbconvert_exporter": "python",
   "pygments_lexer": "ipython3",
   "version": "3.9.18"
  }
 },
 "nbformat": 4,
 "nbformat_minor": 4
}
